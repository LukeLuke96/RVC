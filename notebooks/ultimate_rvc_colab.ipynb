{
  "cells": [
    {
      "cell_type": "markdown",
      "metadata": {
        "id": "kmyCzJVyCymN"
      },
      "source": [
        "Colab for [Ultimate RVC](https://github.com/JackismyShephard/ultimate-rvc)\n",
        "\n",
        "This Colab notebook will **help** you if you don’t have a GPU or if your PC isn’t very powerful.\n",
        "\n",
        "Simply click `Runtime` in the top navigation bar and `Run all`. Wait for the output of the final cell to show the public gradio url and click on it.\n",
        "\n",
        "NOTE: If Ultimate RVC is running too slowly with the default sharing method (gradio), consider instead selecting \"ngrok\" as sharing method.\n",
        "This method requires supplying an access token, which you can find on [ngrok](https://ngrok.com/) after creating a personal account.\n",
        "The ngrok link output in the final cell will lead you to a new site which will redirect you to Ultimate RVC."
      ]
    },
    {
      "cell_type": "code",
      "execution_count": 3,
      "metadata": {
        "colab": {
          "base_uri": "https://localhost:8080/"
        },
        "id": "1UfyUbQT6NQ9",
        "outputId": "384d171f-5c57-4090-ce2e-b528ae7ff52d"
      },
      "outputs": [
        {
          "output_type": "stream",
          "name": "stdout",
          "text": [
            "time: 67.5 ms (started: 2025-09-24 18:35:45 +00:00)\n"
          ]
        }
      ],
      "source": [
        "# @title 0: Initialize notebook\n",
        "%pip install ipython-autotime pyngrok\n",
        "%load_ext autotime\n",
        "\n",
        "import codecs\n",
        "import os\n",
        "import time\n",
        "from pathlib import Path\n",
        "from urllib import request\n",
        "\n",
        "import ipywidgets as widgets\n",
        "from IPython.display import clear_output\n",
        "from IPython.display import display as i_display\n",
        "from pyngrok import ngrok\n",
        "\n",
        "clear_output()"
      ]
    },
    {
      "cell_type": "code",
      "execution_count": 4,
      "metadata": {
        "cellView": "form",
        "id": "aaokDv1VzpAX",
        "colab": {
          "base_uri": "https://localhost:8080/"
        },
        "outputId": "e74caf19-4ae8-49a3-e5c7-cc1da3fc7d76"
      },
      "outputs": [
        {
          "output_type": "stream",
          "name": "stdout",
          "text": [
            "time: 109 ms (started: 2025-09-24 18:35:45 +00:00)\n"
          ]
        }
      ],
      "source": [
        "# @title 1: Clone repository\n",
        "cloneing = codecs.decode(\n",
        "    \"uggcf://tvguho.pbz/WnpxvfzlFurcuneq/hygvzngr-eip.tvg\",\n",
        "    \"rot_13\",\n",
        ")\n",
        "\n",
        "!git clone $cloneing HRVC\n",
        "%cd /content/HRVC\n",
        "clear_output()"
      ]
    },
    {
      "cell_type": "code",
      "execution_count": 5,
      "metadata": {
        "cellView": "form",
        "id": "lVGNygIa0F_1",
        "colab": {
          "base_uri": "https://localhost:8080/"
        },
        "outputId": "00113c8f-50b6-41f5-8a3d-9c7fb8658077"
      },
      "outputs": [
        {
          "output_type": "stream",
          "name": "stdout",
          "text": [
            "time: 12.9 s (started: 2025-09-24 18:35:45 +00:00)\n"
          ]
        }
      ],
      "source": [
        "# @title 2: Install dependencies\n",
        "\n",
        "light = codecs.decode(\"uggcf://nfgeny.fu/hi/0.6.3/vafgnyy.fu\", \"rot_13\")\n",
        "inits = codecs.decode(\"./fep/hygvzngr_eip/pber/znva.cl\", \"rot_13\")\n",
        "prerelease = \"--prerelease if-necessary-or-explicit\"\n",
        "\n",
        "!apt install -y python3-dev unzip\n",
        "!curl -LsSf $light | sh\n",
        "\n",
        "os.environ[\"URVC_CONSOLE_LOG_LEVEL\"] = \"WARNING\"\n",
        "!uv run -q $prerelease $inits\n",
        "!uv add $prerelease matplotlib-inline==0.1.7\n",
        "clear_output()"
      ]
    },
    {
      "cell_type": "code",
      "execution_count": null,
      "metadata": {
        "cellView": "form",
        "id": "lVGNygIa0F_2",
        "colab": {
          "base_uri": "https://localhost:8080/"
        },
        "outputId": "77ef2ddf-d87c-4e5b-c7c2-2c66042833ca"
      },
      "outputs": [
        {
          "output_type": "stream",
          "name": "stdout",
          "text": [
            "\u001b[2mBytecode compiled \u001b[1m18268 files\u001b[0m \u001b[2min 1.52s\u001b[0m\u001b[0m\n",
            "* Running on local URL:  http://127.0.0.1:7860\n",
            "* Running on public URL: https://5767fa8a680228a0ef.gradio.live\n",
            "\n",
            "This share link expires in 1 week. For free permanent hosting and GPU upgrades, run `gradio deploy` from the terminal in the working directory to deploy to Hugging Face Spaces (https://huggingface.co/spaces)\n",
            "Traceback (most recent call last):\n",
            "  File \"/content/HRVC/.venv/lib/python3.12/site-packages/gradio/queueing.py\", line 625, in process_events\n",
            "    response = await route_utils.call_process_api(\n",
            "               ^^^^^^^^^^^^^^^^^^^^^^^^^^^^^^^^^^^\n",
            "  File \"/content/HRVC/.venv/lib/python3.12/site-packages/gradio/route_utils.py\", line 322, in call_process_api\n",
            "    output = await app.get_blocks().process_api(\n",
            "             ^^^^^^^^^^^^^^^^^^^^^^^^^^^^^^^^^^^\n",
            "  File \"/content/HRVC/.venv/lib/python3.12/site-packages/gradio/blocks.py\", line 2136, in process_api\n",
            "    result = await self.call_function(\n",
            "             ^^^^^^^^^^^^^^^^^^^^^^^^^\n",
            "  File \"/content/HRVC/.venv/lib/python3.12/site-packages/gradio/blocks.py\", line 1662, in call_function\n",
            "    prediction = await anyio.to_thread.run_sync(  # type: ignore\n",
            "                 ^^^^^^^^^^^^^^^^^^^^^^^^^^^^^^^^^^^^^^^^^^^^^^^\n",
            "  File \"/content/HRVC/.venv/lib/python3.12/site-packages/anyio/to_thread.py\", line 56, in run_sync\n",
            "    return await get_async_backend().run_sync_in_worker_thread(\n",
            "           ^^^^^^^^^^^^^^^^^^^^^^^^^^^^^^^^^^^^^^^^^^^^^^^^^^^^\n",
            "  File \"/content/HRVC/.venv/lib/python3.12/site-packages/anyio/_backends/_asyncio.py\", line 2485, in run_sync_in_worker_thread\n",
            "    return await future\n",
            "           ^^^^^^^^^^^^\n",
            "  File \"/content/HRVC/.venv/lib/python3.12/site-packages/anyio/_backends/_asyncio.py\", line 976, in run\n",
            "    result = context.run(func, *args)\n",
            "             ^^^^^^^^^^^^^^^^^^^^^^^^\n",
            "  File \"/content/HRVC/.venv/lib/python3.12/site-packages/gradio/utils.py\", line 883, in wrapper\n",
            "    response = f(*args, **kwargs)\n",
            "               ^^^^^^^^^^^^^^^^^^\n",
            "  File \"/content/HRVC/src/ultimate_rvc/web/common.py\", line 75, in _wrapped_fn\n",
            "    raise gr.Error(str(msg)) from None\n",
            "gradio.exceptions.Error: 'No dataset provided.'\n",
            "100% 1/1 [00:05<00:00,  5.11s/it]\n",
            "\u001b[1m[\u001b[0m~\u001b[1m]\u001b[0m Extracting pitch features\u001b[33m...\u001b[0m\n",
            "100% 264/264 [00:00<00:00, 22894.58it/s]\n",
            "\u001b[1m[\u001b[0m~\u001b[1m]\u001b[0m Extracting audio embeddings\u001b[33m...\u001b[0m\n",
            "100% 264/264 [00:00<00:00, 29090.38it/s]\n",
            "/content/HRVC/.venv/lib/python3.12/site-packages/torch/utils/data/dataloader.py:627: UserWarning: This DataLoader will create 4 worker processes in total. Our suggested max number of worker in current system is 2, which is smaller than what this DataLoader is going to create. Please be aware that excessive worker creation might get DataLoader running slow or even freeze, lower the worker number to avoid potential slowness/freeze if necessary.\n",
            "  warnings.warn(\n",
            "/content/HRVC/.venv/lib/python3.12/site-packages/torch/utils/data/dataloader.py:627: UserWarning: This DataLoader will create 4 worker processes in total. Our suggested max number of worker in current system is 2, which is smaller than what this DataLoader is going to create. Please be aware that excessive worker creation might get DataLoader running slow or even freeze, lower the worker number to avoid potential slowness/freeze if necessary.\n",
            "  warnings.warn(\n",
            "2025-09-24 18:38:00 - WARNING - ultimate_rvc.rvc.train.train - Process running on device 0 exited with code -15.\n",
            "Traceback (most recent call last):\n",
            "  File \"<string>\", line 1, in <module>\n",
            "  File \"/usr/lib/python3.12/multiprocessing/spawn.py\", line 122, in spawn_main\n",
            "    exitcode = _main(fd, parent_sentinel)\n",
            "               ^^^^^^^^^^^^^^^^^^^^^^^^^^\n",
            "  File \"/usr/lib/python3.12/multiprocessing/spawn.py\", line 132, in _main\n",
            "    self = reduction.pickle.load(from_parent)\n",
            "           ^^^^^^^^^^^^^^^^^^^^^^^^^^^^^^^^^^\n",
            "_pickle.UnpicklingError: pickle data was truncated\n",
            "/content/HRVC/.venv/lib/python3.12/site-packages/torch/utils/data/dataloader.py:627: UserWarning: This DataLoader will create 4 worker processes in total. Our suggested max number of worker in current system is 2, which is smaller than what this DataLoader is going to create. Please be aware that excessive worker creation might get DataLoader running slow or even freeze, lower the worker number to avoid potential slowness/freeze if necessary.\n",
            "  warnings.warn(\n",
            "/content/HRVC/.venv/lib/python3.12/site-packages/torch/utils/data/dataloader.py:627: UserWarning: This DataLoader will create 4 worker processes in total. Our suggested max number of worker in current system is 2, which is smaller than what this DataLoader is going to create. Please be aware that excessive worker creation might get DataLoader running slow or even freeze, lower the worker number to avoid potential slowness/freeze if necessary.\n",
            "  warnings.warn(\n",
            "Alberto | epoch=11 | time=18:40:20 | speed=0:01:23 | best avg-gen-loss=3.272 (epoch 11) | overtrain countdown: g=50,d=93 | avg-gen-loss=3.272 | avg-disc-loss=0.388\n",
            "Alberto | epoch=12 | time=18:41:04 | speed=0:00:43 | best avg-gen-loss=3.265 (epoch 12) | overtrain countdown: g=50,d=92 | avg-gen-loss=3.265 | avg-disc-loss=0.386\n",
            "Alberto | epoch=13 | time=18:41:49 | speed=0:00:44 | best avg-gen-loss=3.265 (epoch 12) | overtrain countdown: g=49,d=91 | avg-gen-loss=3.308 | avg-disc-loss=0.387\n",
            "Alberto | epoch=14 | time=18:42:33 | speed=0:00:44 | best avg-gen-loss=3.265 (epoch 12) | overtrain countdown: g=48,d=90 | avg-gen-loss=3.280 | avg-disc-loss=0.389\n",
            "Alberto | epoch=15 | time=18:43:18 | speed=0:00:44 | best avg-gen-loss=3.265 (epoch 12) | overtrain countdown: g=47,d=100 | avg-gen-loss=3.270 | avg-disc-loss=0.378\n",
            "Alberto | epoch=16 | time=18:44:03 | speed=0:00:44 | best avg-gen-loss=3.265 (epoch 12) | overtrain countdown: g=46,d=99 | avg-gen-loss=3.269 | avg-disc-loss=0.381\n",
            "Alberto | epoch=17 | time=18:44:47 | speed=0:00:44 | best avg-gen-loss=3.265 (epoch 12) | overtrain countdown: g=45,d=98 | avg-gen-loss=3.275 | avg-disc-loss=0.383\n",
            "Alberto | epoch=18 | time=18:45:32 | speed=0:00:44 | best avg-gen-loss=3.265 (epoch 12) | overtrain countdown: g=44,d=97 | avg-gen-loss=3.262 | avg-disc-loss=0.390\n",
            "Alberto | epoch=19 | time=18:46:17 | speed=0:00:44 | best avg-gen-loss=3.265 (epoch 12) | overtrain countdown: g=43,d=96 | avg-gen-loss=3.305 | avg-disc-loss=0.382\n",
            "Alberto | epoch=20 | time=18:47:02 | speed=0:00:45 | best avg-gen-loss=3.265 (epoch 12) | overtrain countdown: g=42,d=95 | avg-gen-loss=3.344 | avg-disc-loss=0.387\n",
            "Alberto | epoch=21 | time=18:48:20 | speed=0:00:45 | best avg-gen-loss=3.258 (epoch 21) | overtrain countdown: g=50,d=94 | avg-gen-loss=3.258 | avg-disc-loss=0.384\n",
            "Alberto | epoch=22 | time=18:49:04 | speed=0:00:43 | best avg-gen-loss=3.258 (epoch 21) | overtrain countdown: g=49,d=100 | avg-gen-loss=3.325 | avg-disc-loss=0.371\n",
            "Alberto | epoch=23 | time=18:49:49 | speed=0:00:44 | best avg-gen-loss=3.258 (epoch 21) | overtrain countdown: g=48,d=99 | avg-gen-loss=3.289 | avg-disc-loss=0.376\n",
            "Alberto | epoch=24 | time=18:50:33 | speed=0:00:44 | best avg-gen-loss=3.249 (epoch 24) | overtrain countdown: g=50,d=98 | avg-gen-loss=3.249 | avg-disc-loss=0.380\n",
            "Alberto | epoch=25 | time=18:51:19 | speed=0:00:44 | best avg-gen-loss=3.201 (epoch 25) | overtrain countdown: g=50,d=97 | avg-gen-loss=3.201 | avg-disc-loss=0.381\n",
            "Alberto | epoch=26 | time=18:52:03 | speed=0:00:44 | best avg-gen-loss=3.201 (epoch 25) | overtrain countdown: g=49,d=96 | avg-gen-loss=3.252 | avg-disc-loss=0.381\n",
            "Alberto | epoch=27 | time=18:52:48 | speed=0:00:44 | best avg-gen-loss=3.201 (epoch 25) | overtrain countdown: g=48,d=95 | avg-gen-loss=3.265 | avg-disc-loss=0.372\n",
            "Alberto | epoch=28 | time=18:53:33 | speed=0:00:44 | best avg-gen-loss=3.201 (epoch 25) | overtrain countdown: g=47,d=94 | avg-gen-loss=3.283 | avg-disc-loss=0.372\n",
            "Alberto | epoch=29 | time=18:54:17 | speed=0:00:44 | best avg-gen-loss=3.201 (epoch 25) | overtrain countdown: g=46,d=93 | avg-gen-loss=3.285 | avg-disc-loss=0.375\n",
            "Alberto | epoch=30 | time=18:55:01 | speed=0:00:44 | best avg-gen-loss=3.201 (epoch 25) | overtrain countdown: g=45,d=92 | avg-gen-loss=3.278 | avg-disc-loss=0.379\n",
            "Alberto | epoch=31 | time=18:56:14 | speed=0:00:45 | best avg-gen-loss=3.201 (epoch 25) | overtrain countdown: g=44,d=91 | avg-gen-loss=3.201 | avg-disc-loss=0.388\n",
            "Alberto | epoch=32 | time=18:56:58 | speed=0:00:43 | best avg-gen-loss=3.201 (epoch 25) | overtrain countdown: g=43,d=90 | avg-gen-loss=3.227 | avg-disc-loss=0.379\n",
            "Alberto | epoch=33 | time=18:57:43 | speed=0:00:45 | best avg-gen-loss=3.197 (epoch 33) | overtrain countdown: g=50,d=89 | avg-gen-loss=3.197 | avg-disc-loss=0.376\n",
            "Alberto | epoch=34 | time=18:58:28 | speed=0:00:44 | best avg-gen-loss=3.191 (epoch 34) | overtrain countdown: g=50,d=88 | avg-gen-loss=3.191 | avg-disc-loss=0.374\n",
            "Alberto | epoch=35 | time=18:59:13 | speed=0:00:44 | best avg-gen-loss=3.191 (epoch 34) | overtrain countdown: g=49,d=87 | avg-gen-loss=3.198 | avg-disc-loss=0.374\n",
            "Alberto | epoch=36 | time=18:59:57 | speed=0:00:44 | best avg-gen-loss=3.191 (epoch 34) | overtrain countdown: g=48,d=86 | avg-gen-loss=3.204 | avg-disc-loss=0.378\n",
            "Alberto | epoch=37 | time=19:00:42 | speed=0:00:44 | best avg-gen-loss=3.191 (epoch 34) | overtrain countdown: g=47,d=85 | avg-gen-loss=3.251 | avg-disc-loss=0.379\n",
            "Alberto | epoch=38 | time=19:01:26 | speed=0:00:44 | best avg-gen-loss=3.191 (epoch 34) | overtrain countdown: g=46,d=84 | avg-gen-loss=3.191 | avg-disc-loss=0.386\n",
            "Alberto | epoch=39 | time=19:02:11 | speed=0:00:45 | best avg-gen-loss=3.191 (epoch 34) | overtrain countdown: g=45,d=83 | avg-gen-loss=3.220 | avg-disc-loss=0.375\n",
            "Alberto | epoch=40 | time=19:02:56 | speed=0:00:44 | best avg-gen-loss=3.191 (epoch 34) | overtrain countdown: g=44,d=82 | avg-gen-loss=3.205 | avg-disc-loss=0.384\n",
            "Training has been successfully completed with 40 epoch(s), 1000 step(s) and 3.205 average generator loss.\n",
            "Lowest average generator loss: 3.191 at epoch 34\n",
            "/content/HRVC/.venv/lib/python3.12/site-packages/torch/utils/data/dataloader.py:627: UserWarning: This DataLoader will create 4 worker processes in total. Our suggested max number of worker in current system is 2, which is smaller than what this DataLoader is going to create. Please be aware that excessive worker creation might get DataLoader running slow or even freeze, lower the worker number to avoid potential slowness/freeze if necessary.\n",
            "  warnings.warn(\n",
            "/content/HRVC/.venv/lib/python3.12/site-packages/torch/utils/data/dataloader.py:627: UserWarning: This DataLoader will create 4 worker processes in total. Our suggested max number of worker in current system is 2, which is smaller than what this DataLoader is going to create. Please be aware that excessive worker creation might get DataLoader running slow or even freeze, lower the worker number to avoid potential slowness/freeze if necessary.\n",
            "  warnings.warn(\n",
            "Alberto | epoch=41 | time=19:12:54 | speed=0:01:19 | best avg-gen-loss=3.191 (epoch 34) | overtrain countdown: g=43,d=81 | avg-gen-loss=3.201 | avg-disc-loss=0.369\n",
            "Alberto | epoch=42 | time=19:13:39 | speed=0:00:45 | best avg-gen-loss=3.191 (epoch 34) | overtrain countdown: g=42,d=80 | avg-gen-loss=3.254 | avg-disc-loss=0.369\n",
            "Alberto | epoch=43 | time=19:14:23 | speed=0:00:43 | best avg-gen-loss=3.191 (epoch 34) | overtrain countdown: g=41,d=79 | avg-gen-loss=3.241 | avg-disc-loss=0.383\n",
            "Alberto | epoch=44 | time=19:15:07 | speed=0:00:44 | best avg-gen-loss=3.191 (epoch 34) | overtrain countdown: g=40,d=100 | avg-gen-loss=3.209 | avg-disc-loss=0.365\n",
            "Alberto | epoch=45 | time=19:15:51 | speed=0:00:43 | best avg-gen-loss=3.191 (epoch 34) | overtrain countdown: g=39,d=99 | avg-gen-loss=3.251 | avg-disc-loss=0.361\n",
            "Alberto | epoch=46 | time=19:16:35 | speed=0:00:44 | best avg-gen-loss=3.191 (epoch 34) | overtrain countdown: g=38,d=98 | avg-gen-loss=3.264 | avg-disc-loss=0.367\n",
            "Alberto | epoch=47 | time=19:17:20 | speed=0:00:44 | best avg-gen-loss=3.191 (epoch 34) | overtrain countdown: g=37,d=97 | avg-gen-loss=3.244 | avg-disc-loss=0.380\n",
            "Alberto | epoch=48 | time=19:18:04 | speed=0:00:44 | best avg-gen-loss=3.191 (epoch 34) | overtrain countdown: g=36,d=96 | avg-gen-loss=3.188 | avg-disc-loss=0.372\n",
            "Alberto | epoch=49 | time=19:18:49 | speed=0:00:44 | best avg-gen-loss=3.191 (epoch 34) | overtrain countdown: g=35,d=95 | avg-gen-loss=3.187 | avg-disc-loss=0.374\n",
            "Alberto | epoch=50 | time=19:19:34 | speed=0:00:44 | best avg-gen-loss=3.186 (epoch 50) | overtrain countdown: g=50,d=94 | avg-gen-loss=3.186 | avg-disc-loss=0.370\n",
            "Alberto | epoch=51 | time=19:21:14 | speed=0:00:45 | best avg-gen-loss=3.186 (epoch 50) | overtrain countdown: g=49,d=93 | avg-gen-loss=3.192 | avg-disc-loss=0.361\n",
            "Alberto | epoch=52 | time=19:21:58 | speed=0:00:44 | best avg-gen-loss=3.186 (epoch 50) | overtrain countdown: g=48,d=92 | avg-gen-loss=3.213 | avg-disc-loss=0.365\n",
            "Alberto | epoch=53 | time=19:22:43 | speed=0:00:44 | best avg-gen-loss=3.169 (epoch 53) | overtrain countdown: g=50,d=91 | avg-gen-loss=3.169 | avg-disc-loss=0.378\n",
            "Alberto | epoch=54 | time=19:23:28 | speed=0:00:44 | best avg-gen-loss=3.169 (epoch 53) | overtrain countdown: g=49,d=90 | avg-gen-loss=3.208 | avg-disc-loss=0.367\n",
            "Alberto | epoch=55 | time=19:24:12 | speed=0:00:43 | best avg-gen-loss=3.169 (epoch 53) | overtrain countdown: g=48,d=89 | avg-gen-loss=3.256 | avg-disc-loss=0.361\n",
            "Alberto | epoch=56 | time=19:24:56 | speed=0:00:44 | best avg-gen-loss=3.169 (epoch 53) | overtrain countdown: g=47,d=88 | avg-gen-loss=3.240 | avg-disc-loss=0.372\n",
            "Alberto | epoch=57 | time=19:25:40 | speed=0:00:44 | best avg-gen-loss=3.169 (epoch 53) | overtrain countdown: g=46,d=87 | avg-gen-loss=3.192 | avg-disc-loss=0.364\n",
            "Alberto | epoch=58 | time=19:26:25 | speed=0:00:44 | best avg-gen-loss=3.169 (epoch 53) | overtrain countdown: g=45,d=86 | avg-gen-loss=3.229 | avg-disc-loss=0.368\n",
            "Alberto | epoch=59 | time=19:27:09 | speed=0:00:44 | best avg-gen-loss=3.169 (epoch 53) | overtrain countdown: g=44,d=85 | avg-gen-loss=3.197 | avg-disc-loss=0.361\n",
            "Alberto | epoch=60 | time=19:27:53 | speed=0:00:44 | best avg-gen-loss=3.169 (epoch 53) | overtrain countdown: g=43,d=84 | avg-gen-loss=3.192 | avg-disc-loss=0.368\n",
            "Alberto | epoch=61 | time=19:28:50 | speed=0:00:45 | best avg-gen-loss=3.169 (epoch 53) | overtrain countdown: g=42,d=83 | avg-gen-loss=3.222 | avg-disc-loss=0.369\n",
            "Alberto | epoch=62 | time=19:29:33 | speed=0:00:43 | best avg-gen-loss=3.169 (epoch 53) | overtrain countdown: g=41,d=82 | avg-gen-loss=3.213 | avg-disc-loss=0.367\n",
            "Alberto | epoch=63 | time=19:30:19 | speed=0:00:45 | best avg-gen-loss=3.144 (epoch 63) | overtrain countdown: g=50,d=81 | avg-gen-loss=3.144 | avg-disc-loss=0.366\n",
            "Alberto | epoch=64 | time=19:31:03 | speed=0:00:44 | best avg-gen-loss=3.144 (epoch 63) | overtrain countdown: g=49,d=100 | avg-gen-loss=3.245 | avg-disc-loss=0.350\n",
            "Alberto | epoch=65 | time=19:31:48 | speed=0:00:44 | best avg-gen-loss=3.144 (epoch 63) | overtrain countdown: g=48,d=99 | avg-gen-loss=3.217 | avg-disc-loss=0.368\n",
            "Alberto | epoch=66 | time=19:32:33 | speed=0:00:44 | best avg-gen-loss=3.144 (epoch 63) | overtrain countdown: g=47,d=98 | avg-gen-loss=3.278 | avg-disc-loss=0.360\n",
            "Alberto | epoch=67 | time=19:33:17 | speed=0:00:44 | best avg-gen-loss=3.144 (epoch 63) | overtrain countdown: g=46,d=97 | avg-gen-loss=3.190 | avg-disc-loss=0.374\n",
            "Alberto | epoch=68 | time=19:34:01 | speed=0:00:44 | best avg-gen-loss=3.144 (epoch 63) | overtrain countdown: g=45,d=96 | avg-gen-loss=3.215 | avg-disc-loss=0.354\n",
            "Alberto | epoch=69 | time=19:34:46 | speed=0:00:44 | best avg-gen-loss=3.144 (epoch 63) | overtrain countdown: g=44,d=95 | avg-gen-loss=3.269 | avg-disc-loss=0.364\n",
            "Alberto | epoch=70 | time=19:35:30 | speed=0:00:44 | best avg-gen-loss=3.144 (epoch 63) | overtrain countdown: g=43,d=94 | avg-gen-loss=3.227 | avg-disc-loss=0.357\n",
            "Alberto | epoch=71 | time=19:36:22 | speed=0:00:44 | best avg-gen-loss=3.144 (epoch 63) | overtrain countdown: g=42,d=93 | avg-gen-loss=3.198 | avg-disc-loss=0.359\n",
            "Alberto | epoch=72 | time=19:37:07 | speed=0:00:44 | best avg-gen-loss=3.144 (epoch 63) | overtrain countdown: g=41,d=92 | avg-gen-loss=3.235 | avg-disc-loss=0.360\n",
            "Alberto | epoch=73 | time=19:37:51 | speed=0:00:44 | best avg-gen-loss=3.144 (epoch 63) | overtrain countdown: g=40,d=91 | avg-gen-loss=3.248 | avg-disc-loss=0.366\n",
            "Alberto | epoch=74 | time=19:38:35 | speed=0:00:44 | best avg-gen-loss=3.144 (epoch 63) | overtrain countdown: g=39,d=90 | avg-gen-loss=3.267 | avg-disc-loss=0.351\n",
            "Alberto | epoch=75 | time=19:39:19 | speed=0:00:44 | best avg-gen-loss=3.144 (epoch 63) | overtrain countdown: g=38,d=89 | avg-gen-loss=3.223 | avg-disc-loss=0.363\n",
            "Alberto | epoch=76 | time=19:40:04 | speed=0:00:44 | best avg-gen-loss=3.144 (epoch 63) | overtrain countdown: g=37,d=88 | avg-gen-loss=3.238 | avg-disc-loss=0.365\n",
            "Alberto | epoch=77 | time=19:40:48 | speed=0:00:44 | best avg-gen-loss=3.144 (epoch 63) | overtrain countdown: g=36,d=87 | avg-gen-loss=3.211 | avg-disc-loss=0.363\n",
            "Alberto | epoch=78 | time=19:41:32 | speed=0:00:44 | best avg-gen-loss=3.144 (epoch 63) | overtrain countdown: g=35,d=86 | avg-gen-loss=3.280 | avg-disc-loss=0.360\n",
            "Alberto | epoch=79 | time=19:42:16 | speed=0:00:44 | best avg-gen-loss=3.144 (epoch 63) | overtrain countdown: g=34,d=85 | avg-gen-loss=3.228 | avg-disc-loss=0.368\n",
            "Alberto | epoch=80 | time=19:43:01 | speed=0:00:44 | best avg-gen-loss=3.144 (epoch 63) | overtrain countdown: g=33,d=84 | avg-gen-loss=3.200 | avg-disc-loss=0.355\n",
            "Training has been successfully completed with 80 epoch(s), 2000 step(s) and 3.2 average generator loss.\n",
            "Lowest average generator loss: 3.144 at epoch 63\n"
          ]
        }
      ],
      "source": [
        "# @title 3: Run Ultimate RVC\n",
        "# @markdown  #### Choose a sharing method:\n",
        "\n",
        "method = \"gradio\"  # @param [\"gradio\",  \"ngrok\", \"cloudflared\",\"localtunnel\"]\n",
        "ngrok_token = \"\"  # @param {type:\"string\"}\n",
        "runpice = codecs.decode(\"./fep/hygvzngr_eip/jro/znva.cl\", \"rot_13\")\n",
        "\n",
        "if method == \"gradio\":\n",
        "    !uv run $prerelease $runpice --share\n",
        "elif method == \"ngrok\":\n",
        "    try:\n",
        "        ngrok.set_auth_token(ngrok_token)\n",
        "        ngrok.kill()\n",
        "        tunnel = ngrok.connect(6969)\n",
        "        print(f\"Ngrok URL: {tunnel.public_url}\")\n",
        "        !uv run $prerelease $runpice --listen-port 6969\n",
        "    except Exception as e:  # noqa: BLE001\n",
        "        print(f\"Error starting ngrok: {e}\")\n",
        "elif method == \"cloudflared\":\n",
        "    !curl -LO https://github.com/cloudflare/cloudflared/releases/latest/download/cloudflared-linux-amd64.deb\n",
        "    !dpkg -i cloudflared-linux-amd64.deb\n",
        "    clear_output()\n",
        "    !rm -rf nohup.out\n",
        "    !nohup cloudflared tunnel --url localhost:6969 &\n",
        "    clear_output()\n",
        "    time.sleep(10)\n",
        "    cloudflare_url = !grep -oE \"https://[a-zA-Z0-9.-]+\\.trycloudflare\\.com\" nohup.out\n",
        "    print(f\"URVC Public URL: {cloudflare_url}\")\n",
        "    !uv run $prerelease $runpice --listen-port 6969\n",
        "elif method == \"localtunnel\":\n",
        "    !npm install -g localtunnel &>/dev/null\n",
        "    Path(\"url.txt\").open(\"w\", encoding=\"utf-8\").close()\n",
        "    !lt --port 6969 >> url.txt 2>&1 &\n",
        "    time.sleep(2)\n",
        "    endpoint_ip = (\n",
        "        request.urlopen(\"https://ipv4.icanhazip.com\").read().decode(\"utf8\").strip(\"\\n\")\n",
        "    )\n",
        "    tunnel_url = (\n",
        "        Path(\"url.txt\").read_text(encoding=\"utf-8\").replace(\"your url is: \", \"\")\n",
        "    )\n",
        "    print(f\"Share Link: {tunnel_url}\")\n",
        "    password_endpoint_widget = widgets.Text(\n",
        "        value=endpoint_ip,\n",
        "        description=\"Password IP:\",\n",
        "        disabled=True,\n",
        "    )\n",
        "    i_display(password_endpoint_widget)\n",
        "    !uv run $prerelease $runpice --listen-port 6969"
      ]
    }
  ],
  "metadata": {
    "accelerator": "GPU",
    "colab": {
      "gpuType": "T4",
      "provenance": []
    },
    "kernelspec": {
      "display_name": "Python 3",
      "name": "python3"
    },
    "language_info": {
      "name": "python"
    }
  },
  "nbformat": 4,
  "nbformat_minor": 0
}