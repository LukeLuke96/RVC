{
  "cells": [
    {
      "cell_type": "markdown",
      "metadata": {
        "id": "kmyCzJVyCymN"
      },
      "source": [
        "Colab for [Ultimate RVC](https://github.com/JackismyShephard/ultimate-rvc)\n",
        "\n",
        "This Colab notebook will **help** you if you don’t have a GPU or if your PC isn’t very powerful.\n",
        "\n",
        "Simply click `Runtime` in the top navigation bar and `Run all`. Wait for the output of the final cell to show the public gradio url and click on it.\n",
        "\n",
        "NOTE: If Ultimate RVC is running too slowly with the default sharing method (gradio), consider instead selecting \"ngrok\" as sharing method.\n",
        "This method requires supplying an access token, which you can find on [ngrok](https://ngrok.com/) after creating a personal account.\n",
        "The ngrok link output in the final cell will lead you to a new site which will redirect you to Ultimate RVC."
      ]
    },
    {
      "cell_type": "code",
      "execution_count": 1,
      "metadata": {
        "colab": {
          "base_uri": "https://localhost:8080/"
        },
        "id": "1UfyUbQT6NQ9",
        "outputId": "1cbb3e2a-72b4-4036-b17f-41843f6ba4e7"
      },
      "outputs": [
        {
          "output_type": "stream",
          "name": "stdout",
          "text": [
            "time: 56.5 ms (started: 2025-09-24 18:07:56 +00:00)\n"
          ]
        }
      ],
      "source": [
        "# @title 0: Initialize notebook\n",
        "%pip install ipython-autotime pyngrok\n",
        "%load_ext autotime\n",
        "\n",
        "import codecs\n",
        "import os\n",
        "import time\n",
        "from pathlib import Path\n",
        "from urllib import request\n",
        "\n",
        "import ipywidgets as widgets\n",
        "from IPython.display import clear_output\n",
        "from IPython.display import display as i_display\n",
        "from pyngrok import ngrok\n",
        "\n",
        "clear_output()"
      ]
    },
    {
      "cell_type": "code",
      "execution_count": 2,
      "metadata": {
        "cellView": "form",
        "id": "aaokDv1VzpAX",
        "colab": {
          "base_uri": "https://localhost:8080/"
        },
        "outputId": "5f3c05b5-b610-4c3e-a650-09a3afafd841"
      },
      "outputs": [
        {
          "output_type": "stream",
          "name": "stdout",
          "text": [
            "time: 1.63 s (started: 2025-09-24 18:08:01 +00:00)\n"
          ]
        }
      ],
      "source": [
        "# @title 1: Clone repository\n",
        "cloneing = codecs.decode(\n",
        "    \"uggcf://tvguho.pbz/WnpxvfzlFurcuneq/hygvzngr-eip.tvg\",\n",
        "    \"rot_13\",\n",
        ")\n",
        "\n",
        "!git clone $cloneing HRVC\n",
        "%cd /content/HRVC\n",
        "clear_output()"
      ]
    },
    {
      "cell_type": "code",
      "execution_count": 3,
      "metadata": {
        "cellView": "form",
        "id": "lVGNygIa0F_1",
        "colab": {
          "base_uri": "https://localhost:8080/"
        },
        "outputId": "d4c11717-6947-4669-b8e2-ef895ae1a512"
      },
      "outputs": [
        {
          "output_type": "stream",
          "name": "stdout",
          "text": [
            "time: 3min 9s (started: 2025-09-24 18:08:07 +00:00)\n"
          ]
        }
      ],
      "source": [
        "# @title 2: Install dependencies\n",
        "\n",
        "light = codecs.decode(\"uggcf://nfgeny.fu/hi/0.6.3/vafgnyy.fu\", \"rot_13\")\n",
        "inits = codecs.decode(\"./fep/hygvzngr_eip/pber/znva.cl\", \"rot_13\")\n",
        "prerelease = \"--prerelease if-necessary-or-explicit\"\n",
        "\n",
        "!apt install -y python3-dev unzip\n",
        "!curl -LsSf $light | sh\n",
        "\n",
        "os.environ[\"URVC_CONSOLE_LOG_LEVEL\"] = \"WARNING\"\n",
        "!uv run -q $prerelease $inits\n",
        "!uv add $prerelease matplotlib-inline==0.1.7\n",
        "clear_output()"
      ]
    },
    {
      "cell_type": "code",
      "execution_count": null,
      "metadata": {
        "cellView": "form",
        "id": "lVGNygIa0F_2",
        "colab": {
          "base_uri": "https://localhost:8080/"
        },
        "outputId": "4071eb24-8d3c-4af0-d5c8-46a2e1b2eb3e"
      },
      "outputs": [
        {
          "output_type": "stream",
          "name": "stdout",
          "text": [
            "░░░░░░░░░░░░░░░░░░░░ [0/0] \u001b[2mInstalling wheels...                                 \u001b[0m\r\u001b[2K░░░░░░░░░░░░░░░░░░░░ [0/17] \u001b[2mInstalling wheels...                                \u001b[0m\r\u001b[2K░░░░░░░░░░░░░░░░░░░░ [0/17] \u001b[2mcfgv==3.4.0                                         \u001b[0m\r\u001b[2K█░░░░░░░░░░░░░░░░░░░ [1/17] \u001b[2mcfgv==3.4.0                                         \u001b[0m\r\u001b[2K█░░░░░░░░░░░░░░░░░░░ [1/17] \u001b[2midentify==2.6.14                                    \u001b[0m\r\u001b[2K██░░░░░░░░░░░░░░░░░░ [2/17] \u001b[2midentify==2.6.14                                    \u001b[0m\r\u001b[2K██░░░░░░░░░░░░░░░░░░ [2/17] \u001b[2mnodeenv==1.9.1                                      \u001b[0m\r\u001b[2K███░░░░░░░░░░░░░░░░░ [3/17] \u001b[2mnodeenv==1.9.1                                      \u001b[0m\r\u001b[2K███░░░░░░░░░░░░░░░░░ [3/17] \u001b[2mvirtualenv==20.34.0                                 \u001b[0m\r\u001b[2K████░░░░░░░░░░░░░░░░ [4/17] \u001b[2mvirtualenv==20.34.0                                 \u001b[0m\r\u001b[2K████░░░░░░░░░░░░░░░░ [4/17] \u001b[2miniconfig==2.1.0                                    \u001b[0m\r\u001b[2K█████░░░░░░░░░░░░░░░ [5/17] \u001b[2miniconfig==2.1.0                                    \u001b[0m\r\u001b[2K█████░░░░░░░░░░░░░░░ [5/17] \u001b[2mpluggy==1.6.0                                       \u001b[0m\r\u001b[2K███████░░░░░░░░░░░░░ [6/17] \u001b[2mpluggy==1.6.0                                       \u001b[0m\r\u001b[2K███████░░░░░░░░░░░░░ [6/17] \u001b[2mcoverage==7.10.7                                    \u001b[0m\r\u001b[2K████████░░░░░░░░░░░░ [7/17] \u001b[2mcoverage==7.10.7                                    \u001b[0m\r\u001b[2K████████░░░░░░░░░░░░ [7/17] \u001b[2mexecnet==2.1.1                                      \u001b[0m\r\u001b[2K█████████░░░░░░░░░░░ [8/17] \u001b[2mexecnet==2.1.1                                      \u001b[0m\r\u001b[2K█████████░░░░░░░░░░░ [8/17] \u001b[2mdistlib==0.4.0                                      \u001b[0m\r\u001b[2K██████████░░░░░░░░░░ [9/17] \u001b[2mdistlib==0.4.0                                      \u001b[0m\r\u001b[2K██████████████████░░ [16/17] \u001b[2mfaker==37.4.2                                      \u001b[0m\r\u001b[2K\u001b[2mInstalled \u001b[1m17 packages\u001b[0m \u001b[2min 52ms\u001b[0m\u001b[0m\n",
            "\u001b[2mBytecode compiled \u001b[1m18268 files\u001b[0m \u001b[2min 2.84s\u001b[0m\u001b[0m\n",
            "Downloading all files: 2.41GiB [00:41, 57.4MiB/s]\n",
            "Downloading https://github.com/zackees/static-sox/raw/main/bin/sox-14.4.2-linux.zip -> /content/HRVC/.venv/lib/python3.12/site-packages/static_sox/bin/linux.zip\n",
            "..........\n",
            "Download of https://github.com/zackees/static-sox/raw/main/bin/sox-14.4.2-linux.zip -> /content/HRVC/.venv/lib/python3.12/site-packages/static_sox/bin/linux.zip completed.\n",
            "Extracting /content/HRVC/.venv/lib/python3.12/site-packages/static_sox/bin/linux.zip -> /content/HRVC/.venv/lib/python3.12/site-packages/static_sox/bin\n",
            "Downloading Taylor Swift\u001b[33m...\u001b[0m\n",
            "\u001b[1m[\u001b[0m~\u001b[1m]\u001b[0m Downloading voice model \u001b[33m...\u001b[0m\n",
            "\u001b[1m[\u001b[0m~\u001b[1m]\u001b[0m Extracting zip file\u001b[33m...\u001b[0m\n",
            "Downloading James Hetfield\u001b[33m...\u001b[0m\n",
            "\u001b[1m[\u001b[0m~\u001b[1m]\u001b[0m Downloading voice model \u001b[33m...\u001b[0m\n",
            "\u001b[1m[\u001b[0m~\u001b[1m]\u001b[0m Extracting zip file\u001b[33m...\u001b[0m\n",
            "Downloading Eminem\u001b[33m...\u001b[0m\n",
            "\u001b[1m[\u001b[0m~\u001b[1m]\u001b[0m Downloading voice model \u001b[33m...\u001b[0m\n",
            "\u001b[1m[\u001b[0m~\u001b[1m]\u001b[0m Extracting zip file\u001b[33m...\u001b[0m\n",
            "Downloading UVR-MDX-NET-Voc_FT.onnx\u001b[33m...\u001b[0m\n",
            "28.3kiB [00:00, 58.5MiB/s]      \n",
            "100% 66.8M/66.8M [00:00<00:00, 99.5MiB/s]\n",
            "Downloading UVR_MDXNET_KARA_2.onnx\u001b[33m...\u001b[0m\n",
            "100% 52.8M/52.8M [00:00<00:00, 159MiB/s]\n",
            "Downloading Reverb_HQ_By_FoxJoy.onnx\u001b[33m...\u001b[0m\n",
            "100% 66.8M/66.8M [00:00<00:00, 155MiB/s]\n",
            "theme_schema%401.2.2.json: 14.7kB [00:00, 61.2MB/s]\n",
            "* Running on local URL:  http://127.0.0.1:7860\n",
            "* Running on public URL: https://374d8b9dd33042a855.gradio.live\n",
            "\n",
            "This share link expires in 1 week. For free permanent hosting and GPU upgrades, run `gradio deploy` from the terminal in the working directory to deploy to Hugging Face Spaces (https://huggingface.co/spaces)\n",
            "100% 1/1 [00:23<00:00, 23.89s/it]\n",
            "\u001b[1m[\u001b[0m~\u001b[1m]\u001b[0m Extracting pitch features\u001b[33m...\u001b[0m\n",
            "100% 264/264 [00:09<00:00, 28.31it/s]\n",
            "\u001b[1m[\u001b[0m~\u001b[1m]\u001b[0m Extracting audio embeddings\u001b[33m...\u001b[0m\n",
            "100% 264/264 [00:05<00:00, 49.34it/s]\n",
            "/content/HRVC/.venv/lib/python3.12/site-packages/torch/utils/data/dataloader.py:627: UserWarning: This DataLoader will create 4 worker processes in total. Our suggested max number of worker in current system is 2, which is smaller than what this DataLoader is going to create. Please be aware that excessive worker creation might get DataLoader running slow or even freeze, lower the worker number to avoid potential slowness/freeze if necessary.\n",
            "  warnings.warn(\n",
            "/content/HRVC/.venv/lib/python3.12/site-packages/torch/utils/data/dataloader.py:627: UserWarning: This DataLoader will create 4 worker processes in total. Our suggested max number of worker in current system is 2, which is smaller than what this DataLoader is going to create. Please be aware that excessive worker creation might get DataLoader running slow or even freeze, lower the worker number to avoid potential slowness/freeze if necessary.\n",
            "  warnings.warn(\n",
            "Alberto | epoch=1 | time=18:18:37 | speed=0:01:08 | best avg-gen-loss=6.158 (epoch 1)\n",
            "Alberto | epoch=2 | time=18:19:21 | speed=0:00:43 | best avg-gen-loss=5.472 (epoch 2)\n",
            "Alberto | epoch=3 | time=18:20:06 | speed=0:00:43 | best avg-gen-loss=5.118 (epoch 3)\n",
            " 28% 10/36 [00:12<00:30,  1.19s/it]2025-09-24 18:20:20 - WARNING - ultimate_rvc.rvc.train.train - Process running on device 0 exited with code -15.\n",
            "/content/HRVC/.venv/lib/python3.12/site-packages/torch/utils/data/dataloader.py:627: UserWarning: This DataLoader will create 4 worker processes in total. Our suggested max number of worker in current system is 2, which is smaller than what this DataLoader is going to create. Please be aware that excessive worker creation might get DataLoader running slow or even freeze, lower the worker number to avoid potential slowness/freeze if necessary.\n",
            "  warnings.warn(\n",
            "/content/HRVC/.venv/lib/python3.12/site-packages/torch/utils/data/dataloader.py:627: UserWarning: This DataLoader will create 4 worker processes in total. Our suggested max number of worker in current system is 2, which is smaller than what this DataLoader is going to create. Please be aware that excessive worker creation might get DataLoader running slow or even freeze, lower the worker number to avoid potential slowness/freeze if necessary.\n",
            "  warnings.warn(\n",
            "Alberto | epoch=1 | time=18:24:45 | speed=0:01:22 | best avg-gen-loss=4.405 (epoch 1) | overtrain countdown: g=50,d=100 | avg-gen-loss=4.405 | avg-disc-loss=0.390\n",
            "Alberto | epoch=2 | time=18:25:29 | speed=0:00:43 | best avg-gen-loss=3.865 (epoch 2) | overtrain countdown: g=50,d=99 | avg-gen-loss=3.865 | avg-disc-loss=0.399\n",
            "Alberto | epoch=3 | time=18:26:13 | speed=0:00:44 | best avg-gen-loss=3.612 (epoch 3) | overtrain countdown: g=50,d=98 | avg-gen-loss=3.612 | avg-disc-loss=0.393\n",
            "Alberto | epoch=4 | time=18:26:57 | speed=0:00:44 | best avg-gen-loss=3.537 (epoch 4) | overtrain countdown: g=50,d=100 | avg-gen-loss=3.537 | avg-disc-loss=0.383\n",
            "Alberto | epoch=5 | time=18:27:42 | speed=0:00:44 | best avg-gen-loss=3.453 (epoch 5) | overtrain countdown: g=50,d=99 | avg-gen-loss=3.453 | avg-disc-loss=0.401\n",
            "Alberto | epoch=6 | time=18:28:26 | speed=0:00:44 | best avg-gen-loss=3.442 (epoch 6) | overtrain countdown: g=50,d=98 | avg-gen-loss=3.442 | avg-disc-loss=0.389\n",
            "Alberto | epoch=7 | time=18:29:11 | speed=0:00:44 | best avg-gen-loss=3.442 (epoch 6) | overtrain countdown: g=49,d=97 | avg-gen-loss=3.440 | avg-disc-loss=0.391\n",
            "Alberto | epoch=8 | time=18:29:55 | speed=0:00:44 | best avg-gen-loss=3.405 (epoch 8) | overtrain countdown: g=50,d=96 | avg-gen-loss=3.405 | avg-disc-loss=0.389\n",
            "Alberto | epoch=9 | time=18:30:40 | speed=0:00:44 | best avg-gen-loss=3.361 (epoch 9) | overtrain countdown: g=50,d=95 | avg-gen-loss=3.361 | avg-disc-loss=0.406\n",
            " 44% 11/25 [00:19<00:23,  1.70s/it]"
          ]
        }
      ],
      "source": [
        "# @title 3: Run Ultimate RVC\n",
        "# @markdown  #### Choose a sharing method:\n",
        "\n",
        "method = \"gradio\"  # @param [\"gradio\",  \"ngrok\", \"cloudflared\",\"localtunnel\"]\n",
        "ngrok_token = \"\"  # @param {type:\"string\"}\n",
        "runpice = codecs.decode(\"./fep/hygvzngr_eip/jro/znva.cl\", \"rot_13\")\n",
        "\n",
        "if method == \"gradio\":\n",
        "    !uv run $prerelease $runpice --share\n",
        "elif method == \"ngrok\":\n",
        "    try:\n",
        "        ngrok.set_auth_token(ngrok_token)\n",
        "        ngrok.kill()\n",
        "        tunnel = ngrok.connect(6969)\n",
        "        print(f\"Ngrok URL: {tunnel.public_url}\")\n",
        "        !uv run $prerelease $runpice --listen-port 6969\n",
        "    except Exception as e:  # noqa: BLE001\n",
        "        print(f\"Error starting ngrok: {e}\")\n",
        "elif method == \"cloudflared\":\n",
        "    !curl -LO https://github.com/cloudflare/cloudflared/releases/latest/download/cloudflared-linux-amd64.deb\n",
        "    !dpkg -i cloudflared-linux-amd64.deb\n",
        "    clear_output()\n",
        "    !rm -rf nohup.out\n",
        "    !nohup cloudflared tunnel --url localhost:6969 &\n",
        "    clear_output()\n",
        "    time.sleep(10)\n",
        "    cloudflare_url = !grep -oE \"https://[a-zA-Z0-9.-]+\\.trycloudflare\\.com\" nohup.out\n",
        "    print(f\"URVC Public URL: {cloudflare_url}\")\n",
        "    !uv run $prerelease $runpice --listen-port 6969\n",
        "elif method == \"localtunnel\":\n",
        "    !npm install -g localtunnel &>/dev/null\n",
        "    Path(\"url.txt\").open(\"w\", encoding=\"utf-8\").close()\n",
        "    !lt --port 6969 >> url.txt 2>&1 &\n",
        "    time.sleep(2)\n",
        "    endpoint_ip = (\n",
        "        request.urlopen(\"https://ipv4.icanhazip.com\").read().decode(\"utf8\").strip(\"\\n\")\n",
        "    )\n",
        "    tunnel_url = (\n",
        "        Path(\"url.txt\").read_text(encoding=\"utf-8\").replace(\"your url is: \", \"\")\n",
        "    )\n",
        "    print(f\"Share Link: {tunnel_url}\")\n",
        "    password_endpoint_widget = widgets.Text(\n",
        "        value=endpoint_ip,\n",
        "        description=\"Password IP:\",\n",
        "        disabled=True,\n",
        "    )\n",
        "    i_display(password_endpoint_widget)\n",
        "    !uv run $prerelease $runpice --listen-port 6969"
      ]
    }
  ],
  "metadata": {
    "accelerator": "GPU",
    "colab": {
      "gpuType": "T4",
      "provenance": []
    },
    "kernelspec": {
      "display_name": "Python 3",
      "name": "python3"
    },
    "language_info": {
      "name": "python"
    }
  },
  "nbformat": 4,
  "nbformat_minor": 0
}